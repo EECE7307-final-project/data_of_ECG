{
 "cells": [
  {
   "cell_type": "code",
   "execution_count": 1,
   "metadata": {},
   "outputs": [],
   "source": [
    "import keras\n",
    "from keras.layers import Input, Dense, Conv1D, MaxPooling1D, UpSampling1D, Conv2D, Conv2DTranspose\n",
    "from keras.models import Model\n",
    "import keras.backend as K\n",
    "import pickle \n",
    "import numpy as np\n",
    "import matplotlib.pyplot as plt\n",
    "from keras import regularizers\n",
    "from keras.layers import *\n",
    "from keras.metrics import *\n",
    "from scipy.stats import norm\n",
    "import random\n",
    "from keras import metrics"
   ]
  },
  {
   "cell_type": "code",
   "execution_count": 2,
   "metadata": {},
   "outputs": [],
   "source": [
    "data = np.load('./denoising.npy')"
   ]
  },
  {
   "cell_type": "code",
   "execution_count": 3,
   "metadata": {},
   "outputs": [
    {
     "name": "stdout",
     "output_type": "stream",
     "text": [
      "WARNING:tensorflow:From D:\\python\\lib\\site-packages\\tensorflow\\python\\ops\\resource_variable_ops.py:435: colocate_with (from tensorflow.python.framework.ops) is deprecated and will be removed in a future version.\n",
      "Instructions for updating:\n",
      "Colocations handled automatically by placer.\n"
     ]
    }
   ],
   "source": [
    "batch_size = 16\n",
    "latent_dim = 128  # Number of latent dimension parameters\n",
    "\n",
    "input_signal = Input(shape=(np.size(data,1),), name=\"input\")\n",
    "x = Dense(512, activation='relu', name=\"intermediate_encoder\")(input_signal)\n",
    "x = Dense(latent_dim, activation='relu', name=\"latent_encoder\")(x)\n",
    "\n",
    "z_mu = Dense(latent_dim)(x)\n",
    "z_log_sigma = Dense(latent_dim)(x)"
   ]
  },
  {
   "cell_type": "code",
   "execution_count": 15,
   "metadata": {},
   "outputs": [],
   "source": [
    "# sampling function\n",
    "def sampling(args):\n",
    "    z_mu, z_log_sigma = args\n",
    "    epsilon = K.random_normal(shape=(K.shape(z_mu)[0], latent_dim),\n",
    "                              mean=0., stddev=1.)\n",
    "    return z_mu + K.exp(z_log_sigma) * epsilon\n",
    "\n",
    "# sample vector from the latent distribution\n",
    "#z = Lambda(sampling)([z_mu, z_log_sigma])\n",
    "z = Lambda(sampling)([z_mu, z_log_sigma])"
   ]
  },
  {
   "cell_type": "code",
   "execution_count": 16,
   "metadata": {},
   "outputs": [],
   "source": [
    "# decoder takes the latent distribution sample as input\n",
    "decoder_input = Input((latent_dim,), name=\"input_decoder\")\n",
    "\n",
    "x = Dense(512, activation='relu', name=\"intermediate_decoder\", input_shape=(latent_dim,))(decoder_input)\n",
    "\n",
    "# Expand to 784 total pixels\n",
    "x = Dense(np.size(data,1), activation='sigmoid', name=\"original_decoder\")(x)\n",
    "\n",
    "# decoder model statement\n",
    "decoder = Model(decoder_input, x)\n",
    "\n",
    "# apply the decoder to the sample from the latent distribution\n",
    "z_decoded = decoder(z)"
   ]
  },
  {
   "cell_type": "code",
   "execution_count": 17,
   "metadata": {},
   "outputs": [],
   "source": [
    "# construct a custom layer to calculate the loss\n",
    "class CustomVariationalLayer(Layer):\n",
    "\n",
    "    def vae_loss(self, x, z_decoded):\n",
    "        x = K.flatten(x)\n",
    "        z_decoded = K.flatten(z_decoded)\n",
    "        # Reconstruction loss\n",
    "        xent_loss = binary_crossentropy(x, z_decoded)\n",
    "        return xent_loss\n",
    "\n",
    "    # adds the custom loss to the class\n",
    "    def call(self, inputs):\n",
    "        x = inputs[0]\n",
    "        z_decoded = inputs[1]\n",
    "        loss = self.vae_loss(x, z_decoded)\n",
    "        self.add_loss(loss, inputs=inputs)\n",
    "        return x\n",
    "    \n",
    "    \n",
    "def VAE_loss(x_origin,x_out):\n",
    "    x_origin=K.flatten(x_origin)\n",
    "    x_out=K.flatten(x_out)\n",
    "    xent_loss = np.size(data,1) * metrics.binary_crossentropy(x_origin, x_out)\n",
    "    kl_loss = - 0.5 * K.sum(1 + z_log_sigma - K.square(z_mu) - K.exp(z_log_sigma), axis=-1)\n",
    "    vae_loss = K.mean(xent_loss + kl_loss)\n",
    "    return vae_loss\n",
    "\n",
    "# apply the custom loss to the input images and the decoded latent distribution sample\n",
    "y = CustomVariationalLayer()([input_signal, z_decoded])"
   ]
  },
  {
   "cell_type": "code",
   "execution_count": 18,
   "metadata": {},
   "outputs": [
    {
     "data": {
      "text/plain": [
       "<tf.Tensor 'model_4/original_decoder/Sigmoid:0' shape=(?, 1024) dtype=float32>"
      ]
     },
     "execution_count": 18,
     "metadata": {},
     "output_type": "execute_result"
    }
   ],
   "source": [
    "z_decoded"
   ]
  },
  {
   "cell_type": "code",
   "execution_count": 19,
   "metadata": {},
   "outputs": [
    {
     "name": "stdout",
     "output_type": "stream",
     "text": [
      "WARNING:tensorflow:Output \"custom_variational_layer_1\" missing from loss dictionary. We assume this was done on purpose. The fit and evaluate APIs will not be expecting any data to be passed to \"custom_variational_layer_1\".\n"
     ]
    }
   ],
   "source": [
    "vae = Model(input_signal, y)\n",
    "vae.compile(optimizer='rmsprop', loss=None)"
   ]
  },
  {
   "cell_type": "code",
   "execution_count": 20,
   "metadata": {},
   "outputs": [],
   "source": [
    "index_train =  int(0.7*np.size(data,0))\n",
    "index_test = int(1*np.size(data,0))"
   ]
  },
  {
   "cell_type": "code",
   "execution_count": 21,
   "metadata": {},
   "outputs": [],
   "source": [
    "# 70% trainning data, 30% validation data\n",
    "train_data = data[0:index_train,:]\n",
    "val_data = data[index_train:index_test,:]\n",
    "#val_data = np.expand_dims(val_data, axis=1)"
   ]
  },
  {
   "cell_type": "code",
   "execution_count": 22,
   "metadata": {},
   "outputs": [
    {
     "name": "stdout",
     "output_type": "stream",
     "text": [
      "Train on 1288 samples, validate on 552 samples\n",
      "WARNING:tensorflow:From D:\\python\\lib\\site-packages\\tensorflow\\python\\ops\\math_ops.py:3066: to_int32 (from tensorflow.python.ops.math_ops) is deprecated and will be removed in a future version.\n",
      "Instructions for updating:\n",
      "Use tf.cast instead.\n",
      "Epoch 1/20\n",
      "1288/1288 [==============================] - 2s 2ms/sample - loss: 0.5823 - val_loss: 0.5809\n",
      "Epoch 2/20\n",
      "1288/1288 [==============================] - 1s 1ms/sample - loss: 0.5641 - val_loss: 0.5684\n",
      "Epoch 3/20\n",
      "1288/1288 [==============================] - 1s 1ms/sample - loss: 0.5614 - val_loss: 0.5634\n",
      "Epoch 4/20\n",
      "1288/1288 [==============================] - 1s 1ms/sample - loss: 0.5607 - val_loss: 0.5624\n",
      "Epoch 5/20\n",
      "1288/1288 [==============================] - 1s 1ms/sample - loss: 0.5593 - val_loss: 0.5616\n",
      "Epoch 6/20\n",
      "1288/1288 [==============================] - 1s 1ms/sample - loss: 0.5590 - val_loss: 0.5621\n",
      "Epoch 7/20\n",
      "1288/1288 [==============================] - 2s 1ms/sample - loss: 0.5580 - val_loss: 0.5660\n",
      "Epoch 8/20\n",
      "1288/1288 [==============================] - 1s 1ms/sample - loss: 0.5574 - val_loss: 0.5618\n",
      "Epoch 9/20\n",
      "1288/1288 [==============================] - 1s 1ms/sample - loss: 0.5567 - val_loss: 0.5598\n",
      "Epoch 10/20\n",
      "1288/1288 [==============================] - 1s 1ms/sample - loss: 0.5561 - val_loss: 0.5600\n",
      "Epoch 11/20\n",
      "1288/1288 [==============================] - 1s 1ms/sample - loss: 0.5560 - val_loss: 0.5589\n",
      "Epoch 12/20\n",
      "1288/1288 [==============================] - 1s 1ms/sample - loss: 0.5558 - val_loss: 0.5625\n",
      "Epoch 13/20\n",
      "1288/1288 [==============================] - 1s 1ms/sample - loss: 0.5555 - val_loss: 0.5611\n",
      "Epoch 14/20\n",
      "1288/1288 [==============================] - 2s 1ms/sample - loss: 0.5552 - val_loss: 0.5586\n",
      "Epoch 15/20\n",
      "1288/1288 [==============================] - 1s 1ms/sample - loss: 0.5553 - val_loss: 0.5589\n",
      "Epoch 16/20\n",
      "1288/1288 [==============================] - 1s 1ms/sample - loss: 0.5552 - val_loss: 0.5587\n",
      "Epoch 17/20\n",
      "1288/1288 [==============================] - 1s 1ms/sample - loss: 0.5550 - val_loss: 0.5597\n",
      "Epoch 18/20\n",
      "1288/1288 [==============================] - 1s 1ms/sample - loss: 0.5549 - val_loss: 0.5584\n",
      "Epoch 19/20\n",
      "1288/1288 [==============================] - 2s 1ms/sample - loss: 0.5547 - val_loss: 0.5583\n",
      "Epoch 20/20\n",
      "1288/1288 [==============================] - 1s 1ms/sample - loss: 0.5546 - val_loss: 0.5645\n"
     ]
    },
    {
     "data": {
      "text/plain": [
       "<tensorflow.python.keras.callbacks.History at 0x20849ca3b70>"
      ]
     },
     "execution_count": 22,
     "metadata": {},
     "output_type": "execute_result"
    }
   ],
   "source": [
    "vae.fit(x=train_data, y=None,\n",
    "        epochs=20,\n",
    "        batch_size=batch_size,\n",
    "        shuffle=True,\n",
    "        validation_data=(val_data, None))"
   ]
  },
  {
   "cell_type": "code",
   "execution_count": 23,
   "metadata": {},
   "outputs": [],
   "source": [
    "n = 10\n",
    "variable = np.zeros([latent_dim,1])\n",
    "for i in range(latent_dim):\n",
    "    variable[i] = random.random()"
   ]
  },
  {
   "cell_type": "code",
   "execution_count": 24,
   "metadata": {},
   "outputs": [],
   "source": [
    "#z_sample = np.tile(variable, batch_size)#.reshape(batch_size, 2)\n",
    "x_decoded = decoder.predict(variable.T, batch_size=batch_size)"
   ]
  },
  {
   "cell_type": "code",
   "execution_count": 25,
   "metadata": {
    "scrolled": true
   },
   "outputs": [
    {
     "data": {
      "text/plain": [
       "[<matplotlib.lines.Line2D at 0x2084b1385c0>]"
      ]
     },
     "execution_count": 25,
     "metadata": {},
     "output_type": "execute_result"
    },
    {
     "data": {
      "image/png": "[encoded data removed]",
      "text/plain": [
       "<Figure size 432x288 with 1 Axes>"
      ]
     },
     "metadata": {
      "needs_background": "light"
     },
     "output_type": "display_data"
    }
   ],
   "source": [
    "plt.plot(range(np.size(x_decoded,1)),x_decoded[0,:],'r-')"
   ]
  },
  {
   "cell_type": "code",
   "execution_count": null,
   "metadata": {},
   "outputs": [],
   "source": [
    "import tensorflow as tf\n",
    "tf.reset_default_graph()"
   ]
  },
  {
   "cell_type": "code",
   "execution_count": null,
   "metadata": {},
   "outputs": [],
   "source": []
  }
 ],
 "metadata": {
  "kernelspec": {
   "display_name": "Python 3",
   "language": "python",
   "name": "python3"
  },
  "language_info": {
   "codemirror_mode": {
    "name": "ipython",
    "version": 3
   },
   "file_extension": ".py",
   "mimetype": "text/x-python",
   "name": "python",
   "nbconvert_exporter": "python",
   "pygments_lexer": "ipython3",
   "version": "3.7.2"
  }
 },
 "nbformat": 4,
 "nbformat_minor": 2
}
