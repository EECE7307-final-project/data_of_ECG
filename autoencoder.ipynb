{
 "cells": [
  {
   "cell_type": "code",
   "execution_count": 2,
   "metadata": {},
   "outputs": [],
   "source": [
    "# import function we need\n",
    "import keras\n",
    "from keras.layers import Input, Dense\n",
    "from keras.models import Model\n",
    "import pickle \n",
    "import numpy as np\n",
    "import matplotlib.pyplot as plt"
   ]
  },
  {
   "cell_type": "code",
   "execution_count": 3,
   "metadata": {},
   "outputs": [],
   "source": [
    "#process data\n",
    "data = pickle.load(open('./data_after_process/EECE7397/EECE7397_cache', \"rb\"))"
   ]
  },
  {
   "cell_type": "code",
   "execution_count": 120,
   "metadata": {},
   "outputs": [],
   "source": [
    "#print(data[0][:])"
   ]
  },
  {
   "cell_type": "code",
   "execution_count": 84,
   "metadata": {},
   "outputs": [],
   "source": [
    "use_data = []\n",
    "for i in range(0,len(data)):\n",
    "    use_data.append(np.array(data[i][:]).T)\n",
    "use_data = np.array(use_data)"
   ]
  },
  {
   "cell_type": "code",
   "execution_count": 85,
   "metadata": {},
   "outputs": [],
   "source": [
    "#use_data = np.array(data[0][:])\n",
    "#for i in range(1,len(data)):\n",
    "#    np.concatenate([use_data,np.array(data[i][:])], axis = 2)"
   ]
  },
  {
   "cell_type": "code",
   "execution_count": 88,
   "metadata": {},
   "outputs": [
    {
     "data": {
      "text/plain": [
       "<matplotlib.legend.Legend at 0x278bb3750b8>"
      ]
     },
     "execution_count": 88,
     "metadata": {},
     "output_type": "execute_result"
    },
    {
     "data": {
      "image/png": "[encoded data removed]",
      "text/plain": [
       "<Figure size 432x288 with 1 Axes>"
      ]
     },
     "metadata": {
      "needs_background": "light"
     },
     "output_type": "display_data"
    }
   ],
   "source": [
    "# use_data(1,:,0) is the first people noise data, and use_data(1,:,1) is the first people clean data\n",
    "num = 0 # if we choose the first patient\n",
    "plt.figure()\n",
    "plt.plot(range(0,np.size(use_data,2)),use_data[num][0][:],'r-')\n",
    "plt.plot(range(0,np.size(use_data,2)),use_data[num][1][:],'b-')\n",
    "plt.legend(['noise signal','clean signal'])"
   ]
  },
  {
   "cell_type": "code",
   "execution_count": 125,
   "metadata": {
    "scrolled": true
   },
   "outputs": [
    {
     "name": "stdout",
     "output_type": "stream",
     "text": [
      "Train on 5520 samples, validate on 1840 samples\n",
      "Epoch 1/50\n",
      "5520/5520 [==============================] - 3s 629us/sample - loss: -2.3621 - val_loss: -2.8122\n",
      "Epoch 2/50\n",
      "5520/5520 [==============================] - 1s 180us/sample - loss: -6.0787 - val_loss: -3.3067\n",
      "Epoch 3/50\n",
      "5520/5520 [==============================] - 1s 178us/sample - loss: -6.3416 - val_loss: -3.4597\n",
      "Epoch 4/50\n",
      "5520/5520 [==============================] - 1s 206us/sample - loss: -6.4354 - val_loss: -3.5364\n",
      "Epoch 5/50\n",
      "5520/5520 [==============================] - 1s 204us/sample - loss: -6.4854 - val_loss: -3.5855\n",
      "Epoch 6/50\n",
      "5520/5520 [==============================] - 1s 197us/sample - loss: -6.5192 - val_loss: -3.6206\n",
      "Epoch 7/50\n",
      "5520/5520 [==============================] - 1s 199us/sample - loss: -6.5436 - val_loss: -3.6463\n",
      "Epoch 8/50\n",
      "5520/5520 [==============================] - 1s 191us/sample - loss: -6.5621 - val_loss: -3.6670\n",
      "Epoch 9/50\n",
      "5520/5520 [==============================] - 1s 175us/sample - loss: -6.5772 - val_loss: -3.6838\n",
      "Epoch 10/50\n",
      "5520/5520 [==============================] - 1s 179us/sample - loss: -6.5900 - val_loss: -3.6986\n",
      "Epoch 11/50\n",
      "5520/5520 [==============================] - 1s 183us/sample - loss: -6.6012 - val_loss: -3.7124\n",
      "Epoch 12/50\n",
      "5520/5520 [==============================] - 1s 178us/sample - loss: -6.6115 - val_loss: -3.7252\n",
      "Epoch 13/50\n",
      "5520/5520 [==============================] - 1s 193us/sample - loss: -6.6212 - val_loss: -3.7371\n",
      "Epoch 14/50\n",
      "5520/5520 [==============================] - 1s 183us/sample - loss: -6.6302 - val_loss: -3.7484\n",
      "Epoch 15/50\n",
      "5520/5520 [==============================] - 1s 196us/sample - loss: -6.6391 - val_loss: -3.7592\n",
      "Epoch 16/50\n",
      "5520/5520 [==============================] - 1s 192us/sample - loss: -6.6475 - val_loss: -3.7695\n",
      "Epoch 17/50\n",
      "5520/5520 [==============================] - 1s 188us/sample - loss: -6.6556 - val_loss: -3.7794\n",
      "Epoch 18/50\n",
      "5520/5520 [==============================] - 1s 175us/sample - loss: -6.6632 - val_loss: -3.7888\n",
      "Epoch 19/50\n",
      "5520/5520 [==============================] - 1s 178us/sample - loss: -6.6703 - val_loss: -3.7974\n",
      "Epoch 20/50\n",
      "5520/5520 [==============================] - 1s 182us/sample - loss: -6.6769 - val_loss: -3.8056\n",
      "Epoch 21/50\n",
      "5520/5520 [==============================] - 1s 191us/sample - loss: -6.6831 - val_loss: -3.8132\n",
      "Epoch 22/50\n",
      "5520/5520 [==============================] - 1s 187us/sample - loss: -6.6889 - val_loss: -3.8205\n",
      "Epoch 23/50\n",
      "5520/5520 [==============================] - 1s 204us/sample - loss: -6.6944 - val_loss: -3.8274\n",
      "Epoch 24/50\n",
      "5520/5520 [==============================] - 1s 192us/sample - loss: -6.6996 - val_loss: -3.8339\n",
      "Epoch 25/50\n",
      "5520/5520 [==============================] - 1s 178us/sample - loss: -6.7044 - val_loss: -3.8399\n",
      "Epoch 26/50\n",
      "5520/5520 [==============================] - 1s 172us/sample - loss: -6.7089 - val_loss: -3.8456\n",
      "Epoch 27/50\n",
      "5520/5520 [==============================] - 1s 204us/sample - loss: -6.7131 - val_loss: -3.8509\n",
      "Epoch 28/50\n",
      "5520/5520 [==============================] - 1s 178us/sample - loss: -6.7171 - val_loss: -3.8556\n",
      "Epoch 29/50\n",
      "5520/5520 [==============================] - 1s 201us/sample - loss: -6.7207 - val_loss: -3.8603\n",
      "Epoch 30/50\n",
      "5520/5520 [==============================] - 1s 167us/sample - loss: -6.7242 - val_loss: -3.8646\n",
      "Epoch 31/50\n",
      "5520/5520 [==============================] - 1s 172us/sample - loss: -6.7273 - val_loss: -3.8686\n",
      "Epoch 32/50\n",
      "5520/5520 [==============================] - 1s 191us/sample - loss: -6.7304 - val_loss: -3.8724\n",
      "Epoch 33/50\n",
      "5520/5520 [==============================] - 1s 208us/sample - loss: -6.7333 - val_loss: -3.8761\n",
      "Epoch 34/50\n",
      "5520/5520 [==============================] - 1s 173us/sample - loss: -6.7360 - val_loss: -3.8796\n",
      "Epoch 35/50\n",
      "5520/5520 [==============================] - 1s 172us/sample - loss: -6.7386 - val_loss: -3.8831\n",
      "Epoch 36/50\n",
      "5520/5520 [==============================] - 1s 171us/sample - loss: -6.7412 - val_loss: -3.8865\n",
      "Epoch 37/50\n",
      "5520/5520 [==============================] - 1s 198us/sample - loss: -6.7436 - val_loss: -3.8896\n",
      "Epoch 38/50\n",
      "5520/5520 [==============================] - 1s 175us/sample - loss: -6.7460 - val_loss: -3.8927\n",
      "Epoch 39/50\n",
      "5520/5520 [==============================] - 1s 173us/sample - loss: -6.7481 - val_loss: -3.8956\n",
      "Epoch 40/50\n",
      "5520/5520 [==============================] - 1s 174us/sample - loss: -6.7503 - val_loss: -3.8984\n",
      "Epoch 41/50\n",
      "5520/5520 [==============================] - 1s 171us/sample - loss: -6.7524 - val_loss: -3.9011\n",
      "Epoch 42/50\n",
      "5520/5520 [==============================] - 1s 184us/sample - loss: -6.7544 - val_loss: -3.9037\n",
      "Epoch 43/50\n",
      "5520/5520 [==============================] - 1s 192us/sample - loss: -6.7563 - val_loss: -3.9063\n",
      "Epoch 44/50\n",
      "5520/5520 [==============================] - 1s 190us/sample - loss: -6.7581 - val_loss: -3.9087\n",
      "Epoch 45/50\n",
      "5520/5520 [==============================] - 1s 172us/sample - loss: -6.7599 - val_loss: -3.9110\n",
      "Epoch 46/50\n",
      "5520/5520 [==============================] - 1s 169us/sample - loss: -6.7617 - val_loss: -3.9133\n",
      "Epoch 47/50\n",
      "5520/5520 [==============================] - 1s 172us/sample - loss: -6.7633 - val_loss: -3.9154\n",
      "Epoch 48/50\n",
      "5520/5520 [==============================] - 1s 171us/sample - loss: -6.7650 - val_loss: -3.9175\n",
      "Epoch 49/50\n",
      "5520/5520 [==============================] - 1s 170us/sample - loss: -6.7664 - val_loss: -3.9191\n",
      "Epoch 50/50\n",
      "5520/5520 [==============================] - 1s 180us/sample - loss: -6.7679 - val_loss: -3.9209\n"
     ]
    },
    {
     "data": {
      "text/plain": [
       "<tensorflow.python.keras.callbacks.History at 0x21bc3d565f8>"
      ]
     },
     "execution_count": 125,
     "metadata": {},
     "output_type": "execute_result"
    }
   ],
   "source": [
    "#start to build auto-encoder here\n",
    "train_size = int(np.floor(0.6*np.size(use_data,0))) # 0.6  determine trainn validation and test size here\n",
    "validation_size = int(np.floor(0.8*np.size(use_data,0)))  #0.2\n",
    "test_size = np.size(use_data,0)  #0.2\n",
    "\n",
    "encoding_dim = 128 #32 #the input size is 1024, and the compression size is 128\n",
    "\n",
    "input_signal = Input(shape =(np.size(use_data,2),)) # np.size(use_data,2) = 1024\n",
    "#encode paer\n",
    "encoded = Dense(encoding_dim, activation='relu')(input_signal)\n",
    "\n",
    "#decode part\n",
    "decoded = Dense(np.size(use_data,2), activation='sigmoid')(encoded)\n",
    "\n",
    "#input_data = Input(shape=(np.size(use_data,2),))\n",
    "autoencoder = Model(input_signal, decoded)\n",
    "encoder = Model(input_signal, encoded)  # encoder model\n",
    "\n",
    "encoded_input = Input(shape=(encoding_dim,))\n",
    "decoder_layer = autoencoder.layers[-1]\n",
    "decoder = Model(encoded_input, decoder_layer(encoded_input))  #decoder model\n",
    "\n",
    "# this model maps an input to its reconstruction\n",
    "#autoencoder = Model(input_signal, decoded)\n",
    "\n",
    "#train model\n",
    "autoencoder.compile(optimizer='adadelta', loss='binary_crossentropy')\n",
    "\n",
    "x_noise_data = use_data[:,0,:]\n",
    "x_correct_data =  use_data[:,1,:]\n",
    "\n",
    "autoencoder.fit(x_noise_data[0:train_size,:], x_correct_data[0:train_size,:],\n",
    "                epochs=50,\n",
    "                batch_size=256,\n",
    "                shuffle=True,\n",
    "                validation_data=(x_noise_data[train_size:validation_size,:], x_correct_data[train_size:validation_size,:]))"
   ]
  },
  {
   "cell_type": "code",
   "execution_count": 126,
   "metadata": {},
   "outputs": [],
   "source": [
    "# test the result\n",
    "encode_result = encoder.predict(x_noise_data[validation_size:test_size,:])\n",
    "decode_result = decoder.predict(encode_result)"
   ]
  },
  {
   "cell_type": "code",
   "execution_count": 130,
   "metadata": {},
   "outputs": [
    {
     "data": {
      "text/plain": [
       "[<matplotlib.lines.Line2D at 0x21bc4f7eef0>]"
      ]
     },
     "execution_count": 130,
     "metadata": {},
     "output_type": "execute_result"
    },
    {
     "data": {
      "image/png": "[encoded data removed]",
      "text/plain": [
       "<Figure size 432x288 with 1 Axes>"
      ]
     },
     "metadata": {
      "needs_background": "light"
     },
     "output_type": "display_data"
    }
   ],
   "source": [
    "# show the result\n",
    "k = 0 #return the k-th test result \n",
    "plt.figure()\n",
    "plt.plot(range(0,1024),x_noise_data[validation_size+k,:],'r-')\n",
    "plt.plot(range(0,1024),decode_result[k,:],'g-')\n",
    "plt.plot(range(0,1024),x_correct_data[validation_size + k,:],'b-')"
   ]
  },
  {
   "cell_type": "code",
   "execution_count": 124,
   "metadata": {},
   "outputs": [
    {
     "data": {
      "text/plain": [
       "<tf.Tensor 'dense_17/Sigmoid:0' shape=(?, 1024) dtype=float32>"
      ]
     },
     "execution_count": 124,
     "metadata": {},
     "output_type": "execute_result"
    }
   ],
   "source": [
    "use_data[:,0,:]\n",
    "np.size(x_noise_data[:,0:train_size],1)\n",
    "decoded"
   ]
  },
  {
   "cell_type": "code",
   "execution_count": 102,
   "metadata": {},
   "outputs": [
    {
     "data": {
      "text/plain": [
       "array([[-0.51 , -0.485, -0.445, ..., -0.025, -0.04 , -0.04 ],\n",
       "       [-0.49 , -0.485, -0.49 , ..., -0.535, -0.55 , -0.575],\n",
       "       [-0.115, -0.13 , -0.13 , ..., -0.81 , -0.8  , -0.77 ],\n",
       "       ...,\n",
       "       [ 1.475,  1.7  ,  1.83 , ..., -0.295, -0.285, -0.285],\n",
       "       [ 0.125,  0.19 ,  0.295, ..., -0.32 , -0.315, -0.33 ],\n",
       "       [-0.28 , -0.28 , -0.28 , ..., -0.92 , -0.915, -0.885]])"
      ]
     },
     "execution_count": 102,
     "metadata": {},
     "output_type": "execute_result"
    }
   ],
   "source": [
    "cc = use_data[:,0,:]\n",
    "cc[0:5520,:]"
   ]
  },
  {
   "cell_type": "code",
   "execution_count": 106,
   "metadata": {},
   "outputs": [
    {
     "data": {
      "text/plain": [
       "1024"
      ]
     },
     "execution_count": 106,
     "metadata": {},
     "output_type": "execute_result"
    }
   ],
   "source": [
    "np.size(use_data,2)"
   ]
  },
  {
   "cell_type": "code",
   "execution_count": null,
   "metadata": {},
   "outputs": [],
   "source": []
  }
 ],
 "metadata": {
  "kernelspec": {
   "display_name": "Python 3",
   "language": "python",
   "name": "python3"
  },
  "language_info": {
   "codemirror_mode": {
    "name": "ipython",
    "version": 3
   },
   "file_extension": ".py",
   "mimetype": "text/x-python",
   "name": "python",
   "nbconvert_exporter": "python",
   "pygments_lexer": "ipython3",
   "version": "3.7.2"
  }
 },
 "nbformat": 4,
 "nbformat_minor": 2
}
